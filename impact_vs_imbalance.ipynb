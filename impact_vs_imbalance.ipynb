{
 "cells": [
  {
   "cell_type": "code",
   "execution_count": 1,
   "metadata": {},
   "outputs": [],
   "source": [
    "import os\n",
    "import pandas as pd\n",
    "import numpy as np\n",
    "import top_order_book as tob\n",
    "import data_parse\n",
    "import matplotlib.pyplot as plt\n",
    "import seaborn as sns\n",
    "\n",
    "from time import process_time"
   ]
  },
  {
   "cell_type": "code",
   "execution_count": 246,
   "metadata": {},
   "outputs": [],
   "source": [
    "from scipy.optimize import curve_fit\n",
    "\n",
    "# Define functions for optimization\n",
    "def scale_function(x, alpha, beta):\n",
    "    \"\"\"\n",
    "    Scaling function\n",
    "    \"\"\"\n",
    "    return x / np.power(1 + np.power(abs(x), alpha), beta/alpha)\n",
    "\n",
    "def func(qT, chi, kappa, alpha, beta, gamma):\n",
    "    \"\"\"\n",
    "    Function used for optimization\n",
    "    \"\"\"\n",
    "    q = qT[0]\n",
    "    T = qT[1]\n",
    "    x = q / np.power(T, kappa)\n",
    "    return np.power(T, chi) * scale_function( x, alpha, beta ) * gamma\n",
    "\n",
    "#\n",
    "def scale_function_2(x, zeta):\n",
    "    \"\"\"\n",
    "    Scaling function\n",
    "    \"\"\"\n",
    "    return x / np.sign(x) * np.power(abs(x), zeta)\n",
    "\n",
    "def func_2(qT, chi, kappa, zeta, gamma):\n",
    "    \"\"\"\n",
    "    Function used for optimization\n",
    "    \"\"\"\n",
    "    q = qT[0]\n",
    "    T = qT[1]\n",
    "    x = q / np.power(T, kappa)\n",
    "    return np.power(T, chi) * scale_function_2( x, zeta ) * gamma\n",
    "\n",
    "# \n",
    "def scale_function_3(x):\n",
    "    return np.tanh(x)\n",
    "\n",
    "def func_3(qT, chi, kappa, gamma):\n",
    "    q = qT[0]\n",
    "    T = qT[1]\n",
    "    x = q / np.power(T, kappa)\n",
    "    return np.power(T, chi) * scale_function_3( x ) * gamma"
   ]
  },
  {
   "cell_type": "code",
   "execution_count": 239,
   "metadata": {},
   "outputs": [],
   "source": [
    "directory = 'output/'\n",
    "\n",
    "files = os.listdir(directory)\n",
    "data = pd.DataFrame()\n",
    "for file in files:\n",
    "    if file.startswith(r'impact_vs_imbalance_') & file.endswith('.csv'):\n",
    "        f = open(directory + file, 'r')\n",
    "        data = data.append(pd.read_csv(f, index_col=0), ignore_index=True)\n",
    "        f.close()"
   ]
  },
  {
   "cell_type": "code",
   "execution_count": 240,
   "metadata": {},
   "outputs": [
    {
     "data": {
      "text/html": [
       "<div>\n",
       "<style scoped>\n",
       "    .dataframe tbody tr th:only-of-type {\n",
       "        vertical-align: middle;\n",
       "    }\n",
       "\n",
       "    .dataframe tbody tr th {\n",
       "        vertical-align: top;\n",
       "    }\n",
       "\n",
       "    .dataframe thead th {\n",
       "        text-align: right;\n",
       "    }\n",
       "</style>\n",
       "<table border=\"1\" class=\"dataframe\">\n",
       "  <thead>\n",
       "    <tr style=\"text-align: right;\">\n",
       "      <th></th>\n",
       "      <th>qi</th>\n",
       "      <th>T</th>\n",
       "      <th>yi</th>\n",
       "    </tr>\n",
       "  </thead>\n",
       "  <tbody>\n",
       "    <tr>\n",
       "      <th>0</th>\n",
       "      <td>-0.000400</td>\n",
       "      <td>5</td>\n",
       "      <td>0.000000</td>\n",
       "    </tr>\n",
       "    <tr>\n",
       "      <th>1</th>\n",
       "      <td>-0.000384</td>\n",
       "      <td>5</td>\n",
       "      <td>0.000000</td>\n",
       "    </tr>\n",
       "    <tr>\n",
       "      <th>2</th>\n",
       "      <td>-0.000349</td>\n",
       "      <td>5</td>\n",
       "      <td>0.000000</td>\n",
       "    </tr>\n",
       "    <tr>\n",
       "      <th>3</th>\n",
       "      <td>-0.000342</td>\n",
       "      <td>5</td>\n",
       "      <td>0.000000</td>\n",
       "    </tr>\n",
       "    <tr>\n",
       "      <th>4</th>\n",
       "      <td>-0.000322</td>\n",
       "      <td>5</td>\n",
       "      <td>0.000000</td>\n",
       "    </tr>\n",
       "    <tr>\n",
       "      <th>...</th>\n",
       "      <td>...</td>\n",
       "      <td>...</td>\n",
       "      <td>...</td>\n",
       "    </tr>\n",
       "    <tr>\n",
       "      <th>104170</th>\n",
       "      <td>0.002008</td>\n",
       "      <td>100</td>\n",
       "      <td>19.912864</td>\n",
       "    </tr>\n",
       "    <tr>\n",
       "      <th>104171</th>\n",
       "      <td>0.002334</td>\n",
       "      <td>100</td>\n",
       "      <td>11.378780</td>\n",
       "    </tr>\n",
       "    <tr>\n",
       "      <th>104172</th>\n",
       "      <td>0.002528</td>\n",
       "      <td>100</td>\n",
       "      <td>14.223475</td>\n",
       "    </tr>\n",
       "    <tr>\n",
       "      <th>104173</th>\n",
       "      <td>0.003592</td>\n",
       "      <td>100</td>\n",
       "      <td>0.000000</td>\n",
       "    </tr>\n",
       "    <tr>\n",
       "      <th>104174</th>\n",
       "      <td>0.008466</td>\n",
       "      <td>100</td>\n",
       "      <td>19.912864</td>\n",
       "    </tr>\n",
       "  </tbody>\n",
       "</table>\n",
       "<p>104175 rows × 3 columns</p>\n",
       "</div>"
      ],
      "text/plain": [
       "              qi    T         yi\n",
       "0      -0.000400    5   0.000000\n",
       "1      -0.000384    5   0.000000\n",
       "2      -0.000349    5   0.000000\n",
       "3      -0.000342    5   0.000000\n",
       "4      -0.000322    5   0.000000\n",
       "...          ...  ...        ...\n",
       "104170  0.002008  100  19.912864\n",
       "104171  0.002334  100  11.378780\n",
       "104172  0.002528  100  14.223475\n",
       "104173  0.003592  100   0.000000\n",
       "104174  0.008466  100  19.912864\n",
       "\n",
       "[104175 rows x 3 columns]"
      ]
     },
     "execution_count": 240,
     "metadata": {},
     "output_type": "execute_result"
    }
   ],
   "source": [
    "# header incorrect, need rename\n",
    "data.columns = ['qi', 'yi', 'T']\n",
    "\n",
    "# reoganize columes\n",
    "data = data.reindex(columns=['qi', 'T', 'yi'])\n",
    "\n",
    "data"
   ]
  },
  {
   "cell_type": "code",
   "execution_count": 189,
   "metadata": {},
   "outputs": [],
   "source": [
    "durations = [5, 10, 20, 50, 100]"
   ]
  },
  {
   "cell_type": "code",
   "execution_count": 190,
   "metadata": {},
   "outputs": [
    {
     "data": {
      "text/plain": [
       "array([2.58646534e+00, 2.98744707e-32, 7.31185853e-01, 2.87512574e+02])"
      ]
     },
     "execution_count": 190,
     "metadata": {},
     "output_type": "execute_result"
    }
   ],
   "source": [
    "popt, pcov = curve_fit(func, np.transpose(data.iloc[:, :2].to_numpy()), \n",
    "                       data.iloc[:, 2].to_numpy(), \n",
    "                       bounds=(0, np.inf))\n",
    "popt"
   ]
  },
  {
   "cell_type": "code",
   "execution_count": 66,
   "metadata": {},
   "outputs": [],
   "source": [
    "temp = data[data['T'] == durations[T]]"
   ]
  },
  {
   "cell_type": "code",
   "execution_count": 68,
   "metadata": {},
   "outputs": [
    {
     "data": {
      "image/png": "[encoded data removed]",
      "text/plain": [
       "<Figure size 540x360 with 1 Axes>"
      ]
     },
     "metadata": {
      "needs_background": "light"
     },
     "output_type": "display_data"
    }
   ],
   "source": [
    "# plotting in seaborn\n",
    "sns.lmplot(x='qi', y='yi', data=temp, aspect=1.5)\n",
    "plt.xlim(-0.0002, 0.0002)\n",
    "plt.ylim(-30, 30)\n",
    "plt.show()"
   ]
  },
  {
   "cell_type": "code",
   "execution_count": null,
   "metadata": {},
   "outputs": [],
   "source": [
    "# Too much noise, will need binning"
   ]
  },
  {
   "cell_type": "code",
   "execution_count": 226,
   "metadata": {},
   "outputs": [],
   "source": [
    "data_binned = pd.DataFrame()\n",
    "\n",
    "for T in durations:\n",
    "    temp = data[data['T'] == T]\n",
    "    qmax = 0.0002\n",
    "    bin_size = 51\n",
    "    \n",
    "    # limit value for 'qi'\n",
    "    temp = temp[(temp['qi'] > -qmax) & (temp['qi'] < qmax)]\n",
    "    \n",
    "    # bin\n",
    "    temp['bin'] = pd.cut(temp['qi'], bin_size)\n",
    "    \n",
    "    # find average\n",
    "    temp = temp.groupby(['bin']).mean().reset_index()\n",
    "    data_binned = data_binned.append(temp.iloc[:, 1:], ignore_index=True)"
   ]
  },
  {
   "cell_type": "code",
   "execution_count": 227,
   "metadata": {},
   "outputs": [
    {
     "data": {
      "text/html": [
       "<div>\n",
       "<style scoped>\n",
       "    .dataframe tbody tr th:only-of-type {\n",
       "        vertical-align: middle;\n",
       "    }\n",
       "\n",
       "    .dataframe tbody tr th {\n",
       "        vertical-align: top;\n",
       "    }\n",
       "\n",
       "    .dataframe thead th {\n",
       "        text-align: right;\n",
       "    }\n",
       "</style>\n",
       "<table border=\"1\" class=\"dataframe\">\n",
       "  <thead>\n",
       "    <tr style=\"text-align: right;\">\n",
       "      <th></th>\n",
       "      <th>qi</th>\n",
       "      <th>T</th>\n",
       "      <th>yi</th>\n",
       "    </tr>\n",
       "  </thead>\n",
       "  <tbody>\n",
       "    <tr>\n",
       "      <th>0</th>\n",
       "      <td>-0.000196</td>\n",
       "      <td>5</td>\n",
       "      <td>-2.002097</td>\n",
       "    </tr>\n",
       "    <tr>\n",
       "      <th>1</th>\n",
       "      <td>-0.000188</td>\n",
       "      <td>5</td>\n",
       "      <td>-2.661539</td>\n",
       "    </tr>\n",
       "    <tr>\n",
       "      <th>2</th>\n",
       "      <td>-0.000180</td>\n",
       "      <td>5</td>\n",
       "      <td>-1.935022</td>\n",
       "    </tr>\n",
       "    <tr>\n",
       "      <th>3</th>\n",
       "      <td>-0.000172</td>\n",
       "      <td>5</td>\n",
       "      <td>-2.649312</td>\n",
       "    </tr>\n",
       "    <tr>\n",
       "      <th>4</th>\n",
       "      <td>-0.000165</td>\n",
       "      <td>5</td>\n",
       "      <td>-3.026305</td>\n",
       "    </tr>\n",
       "    <tr>\n",
       "      <th>...</th>\n",
       "      <td>...</td>\n",
       "      <td>...</td>\n",
       "      <td>...</td>\n",
       "    </tr>\n",
       "    <tr>\n",
       "      <th>250</th>\n",
       "      <td>0.000165</td>\n",
       "      <td>100</td>\n",
       "      <td>17.631021</td>\n",
       "    </tr>\n",
       "    <tr>\n",
       "      <th>251</th>\n",
       "      <td>0.000172</td>\n",
       "      <td>100</td>\n",
       "      <td>11.890470</td>\n",
       "    </tr>\n",
       "    <tr>\n",
       "      <th>252</th>\n",
       "      <td>0.000180</td>\n",
       "      <td>100</td>\n",
       "      <td>12.444646</td>\n",
       "    </tr>\n",
       "    <tr>\n",
       "      <th>253</th>\n",
       "      <td>0.000188</td>\n",
       "      <td>100</td>\n",
       "      <td>12.237543</td>\n",
       "    </tr>\n",
       "    <tr>\n",
       "      <th>254</th>\n",
       "      <td>0.000196</td>\n",
       "      <td>100</td>\n",
       "      <td>12.194967</td>\n",
       "    </tr>\n",
       "  </tbody>\n",
       "</table>\n",
       "<p>255 rows × 3 columns</p>\n",
       "</div>"
      ],
      "text/plain": [
       "           qi    T         yi\n",
       "0   -0.000196    5  -2.002097\n",
       "1   -0.000188    5  -2.661539\n",
       "2   -0.000180    5  -1.935022\n",
       "3   -0.000172    5  -2.649312\n",
       "4   -0.000165    5  -3.026305\n",
       "..        ...  ...        ...\n",
       "250  0.000165  100  17.631021\n",
       "251  0.000172  100  11.890470\n",
       "252  0.000180  100  12.444646\n",
       "253  0.000188  100  12.237543\n",
       "254  0.000196  100  12.194967\n",
       "\n",
       "[255 rows x 3 columns]"
      ]
     },
     "execution_count": 227,
     "metadata": {},
     "output_type": "execute_result"
    }
   ],
   "source": [
    "data_binned"
   ]
  },
  {
   "cell_type": "code",
   "execution_count": 228,
   "metadata": {},
   "outputs": [
    {
     "data": {
      "image/png": "[encoded data removed]",
      "text/plain": [
       "<Figure size 432x288 with 1 Axes>"
      ]
     },
     "metadata": {
      "needs_background": "light"
     },
     "output_type": "display_data"
    }
   ],
   "source": [
    "# plotting in seaborn\n",
    "sns.lineplot(x='qi', y='yi', data=data_binned, style=\"T\", \n",
    "             markers=True, legend='brief')\n",
    "plt.xlim(-qmax, qmax)\n",
    "plt.ylim(-20, 20)\n",
    "plt.show()"
   ]
  },
  {
   "cell_type": "code",
   "execution_count": 92,
   "metadata": {},
   "outputs": [
    {
     "data": {
      "text/plain": [
       "array([2.58646534e+00, 2.98744707e-32, 7.31185853e-01, 2.87512574e+02])"
      ]
     },
     "execution_count": 92,
     "metadata": {},
     "output_type": "execute_result"
    }
   ],
   "source": [
    "#popt, pcov = curve_fit(func, np.transpose(data.iloc[:, :2].to_numpy()), data.iloc[:, 2].to_numpy(), bounds=(0, np.inf))\n",
    "#popt"
   ]
  },
  {
   "cell_type": "code",
   "execution_count": 247,
   "metadata": {},
   "outputs": [
    {
     "data": {
      "text/plain": [
       "array([8.02846949e-01, 3.75778154e-01, 1.13992899e+03, 4.03498449e+03,\n",
       "       1.13414150e+04])"
      ]
     },
     "execution_count": 247,
     "metadata": {},
     "output_type": "execute_result"
    }
   ],
   "source": [
    "popt, pcov = curve_fit(func, np.transpose(data_binned.iloc[:, :2].to_numpy()), \n",
    "                       data_binned.iloc[:, 2].to_numpy(), #p0=[1., 0.5, 2., 1.],\n",
    "                       bounds=(0, np.inf))\n",
    "popt"
   ]
  },
  {
   "cell_type": "code",
   "execution_count": 248,
   "metadata": {},
   "outputs": [
    {
     "data": {
      "text/plain": [
       "array([0.99997221, 0.99998982, 1.00000281, 0.99999312])"
      ]
     },
     "execution_count": 248,
     "metadata": {},
     "output_type": "execute_result"
    }
   ],
   "source": [
    "popt2, pcov2 = curve_fit(func_2, np.transpose(data_binned.iloc[:, :2].to_numpy()), \n",
    "                       data_binned.iloc[:, 2].to_numpy(), \n",
    "                       bounds=(0, np.inf))\n",
    "popt2"
   ]
  },
  {
   "cell_type": "code",
   "execution_count": 249,
   "metadata": {},
   "outputs": [
    {
     "data": {
      "text/plain": [
       "array([8.18913479e-01, 3.91844328e-01, 1.13413990e+04])"
      ]
     },
     "execution_count": 249,
     "metadata": {},
     "output_type": "execute_result"
    }
   ],
   "source": [
    "popt3, pcov3 = curve_fit(func_3, np.transpose(data_binned.iloc[:, :2].to_numpy()), \n",
    "                       data_binned.iloc[:, 2].to_numpy(), \n",
    "                       bounds=(0, np.inf))\n",
    "popt3"
   ]
  },
  {
   "cell_type": "code",
   "execution_count": 251,
   "metadata": {},
   "outputs": [
    {
     "data": {
      "text/plain": [
       "225.51504523678418"
      ]
     },
     "execution_count": 251,
     "metadata": {},
     "output_type": "execute_result"
    }
   ],
   "source": [
    "func([0.01, 5], *popt)"
   ]
  },
  {
   "cell_type": "code",
   "execution_count": null,
   "metadata": {},
   "outputs": [],
   "source": []
  }
 ],
 "metadata": {
  "kernelspec": {
   "display_name": "Python 3",
   "language": "python",
   "name": "python3"
  },
  "language_info": {
   "codemirror_mode": {
    "name": "ipython",
    "version": 3
   },
   "file_extension": ".py",
   "mimetype": "text/x-python",
   "name": "python",
   "nbconvert_exporter": "python",
   "pygments_lexer": "ipython3",
   "version": "3.8.3"
  }
 },
 "nbformat": 4,
 "nbformat_minor": 4
}
